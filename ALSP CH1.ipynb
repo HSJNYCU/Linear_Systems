{
 "cells": [
  {
   "cell_type": "markdown",
   "id": "5b612a03",
   "metadata": {},
   "source": [
    "# Table of Contents\n",
    "* [CH1: 系統模型、微分方程、初值問題](#CH1)\n",
    "    * [1.1 Introduction](#1.1_intro)\n",
    "        * [Physical Processes, Models, and Mathematical Descriptions](#1.1_PPMMD)\n",
    "        * [Classification of Systems](#1.1_CS)\n",
    "        * [Finite-Dimensional Systems](#1.1_FDS)\n"
   ]
  },
  {
   "cell_type": "markdown",
   "id": "a23fe362",
   "metadata": {},
   "source": [
    "# 系統模型、微分方程、初值問題 <a class=\"anchor\" id=\"CH1\"></a>"
   ]
  },
  {
   "cell_type": "markdown",
   "id": "d164d597",
   "metadata": {},
   "source": [
    "## 1.1 Introduction <a class=\"anchor\" id=\"1.1_intro\"></a>\n",
    "\n",
    "系統的動態行為可以通過研究它們的數學描述(mathematical description)來理解。例如根據飛機的引擎推力、方向舵和升降舵角度，以及特定的風向條件，即可預測飛機的飛行路徑；或者，當汽車在特定的山坡上使用定速巡航時的行為，也可以使用數學描述來預測相關的行為。我們通常使用數學方程式，特別是微分或差分方程式，來描述過程的行為並預測它們對某些輸入的反應。\n",
    "\n",
    "本章為線性連續時間和線性離散時間有限維度系統開發的數學描述。由於這樣的系統經常是非線性系統經過線性化後的結果，或者是在物理系統的建模過程中，非線性效應被壓制或忽略的結果，因此這些線性系統的來源經常是非線性系統。因此，在這裡和第四章，當我們處理某些質的方面(如系統方程解的存在性、唯一性、延續性和對參數的連續性，平衡的穩定性等），我們考慮線性和非線性系統模型，儘管本書的其餘部分僅與線性系統有關。\n",
    "\n",
    "在這一章中，我們將在這個介紹的其餘部分和第1.1節中討論數學模型和模型的分類。在第1.2節中，我們提供了一些使用的記號，並回顧了有關連續函數的某些事實。在第1.3節中，我們介紹了初值問題，並在第1.4節中給出了幾個具體的例子。在第1.5節中，我們提出了確保初值問題的解的存在性、延續性和唯一性的結果，以及確保初值問題的解對初始條件和系統參數連續依賴的結果。在這一節中，我們還介紹了連續逼近法來決定初值問題的解。第1.5節的結果涉及到的微分方程通常是非線性的。在第1.6節中，我們討論了這樣的方程的線性化，並提供了幾個具體的例子。\n",
    "\n",
    "我們利用第1.5節的結果，在第1.7節中確定了由線性常微分方程確定的初值問題的解的存在性、唯一性、延續性，以及對初始條件和參數的連續性的條件。\n",
    "\n",
    "在第1.8節中，我們確定了線性常微分方程的解，並首次引入了狀態和狀態轉移矩陣的概念。我們也提出了常數變化公式來解線性非齊次常微分方程，並引入了齊次解和特解的概念。\n",
    "\n",
    "總結來說，第1.3節到1.8節的目的是提供與常微分方程和初值問題相關的材料，這些材料在研究連續時間有限維度系統時是必不可少的。這些材料將使我們能夠引入連續時間有限維度系統的狀態空間方程表示。這一介紹將在下一章完成。"
   ]
  },
  {
   "cell_type": "markdown",
   "id": "abc3f3b2",
   "metadata": {},
   "source": [
    "### Physical Processes, Models, and Mathematical Descriptions <a class=\"anchor\" id=\"1.1_PPMMD\"></a>\n",
    "\n",
    "對物理現象的系統化研究通常從模型建立過程開始。模型的範例包括由電阻、電感、電容、電晶體、二極體、電壓或電流源等組成的電路圖；由點質量、彈簧、粘滯阻尼器、施加的外力等組成的機械電路；對經濟和社會系統的語言描述等等。接著，調用適當的定律或原則來產生描述這些數學模型的等式(例如，克希荷夫的電流和電壓定律、牛頓定律、守恒定律等等)。當我們使用“考慮一個由常微分方程式描述的系統”這樣的表達時，我們將會想到一個由適當的常微分方程式集描述的現象。\n",
    "\n",
    "一個物理過程（物理系統）通常會產生幾種不同的模型，這取決於我們要問的問題。例如，在研究晶體管的電壓-電流特性（物理過程）時，我們可能會使用一個在低頻時有效的電路（模型），或者一個在高頻時有效的電路（第二種模型）；另外，如果我們對半導體雜質感興趣，那麼一種與前兩種完全不同的第三種模型將會是合適的。\n",
    "\n",
    "* 補充: 在此物理過程 = physical process = 物理系統 = physical model\n",
    "\n",
    "過去幾個世紀，人們在開發物理現象的數學描述方面有了巨大的進展。我們引用了物理、化學、生物、經濟等學科的法則（或原理），以推導出描述變量（variables）隨時間演變的數學表達式（通常是方程式）。這種數學描述的可用性使我們能夠利用應用數學和純數學所提供的龐大資源，進行過程行為的質量和量化研究（qualitative and quantitative studies）。\n",
    "\n",
    "一個物理過程的模型可能產生幾種不同的數學描述。例如，當將基爾霍夫的電壓和電流定律應用於前述的低頻電晶體模型時，人們可以推導出一組微分和代數方程、只包含微分方程的組合、或者包含積分微分方程的組合等等。這種“從物理現象到模型再到數學描述”的數學建模過程在科學和工程中至關重要。\n",
    "\n",
    "準確地捕捉到感興趣的現象並將其轉化為可處理的數學形式是一項艱鉅的任務，可以想像這需要對涉及的物理過程有深入的理解。因此，複雜電氣系統的數學描述，例如電力系統，通常由電機工程師完成，飛機飛行動力學的方程由航空工程師推導，化學過程的方程由化學家和化學工程師得出，經濟系統行為的方程由經濟學家提供。在大多複雜案例中（In most nontrivial cases），這種建模過程接近於一種藝術形式，因為一個好的數學描述必須足夠詳細以準確描述感興趣的現象，同時又要足夠簡單以便於分析。\n",
    "\n",
    "* 簡單來說就是基於現實事件建立數學模型，藉由觀察數學模型中變量隨時間的變化，推測現實事件可能發生的變化。\n",
    "* 對於現實中的物理過程，可以有數個不同的數學描述 or 數學模型來表示，在實務面上這通常取決於變量的精細、精準程度，例如汽車的基礎數學模型可用剛體力學來簡單計算此汽車的特性，但涉及分析碰撞結果時，就必須用有限元素或其他方式來模擬碰撞時車輛的型變。\n"
   ]
  },
  {
   "cell_type": "markdown",
   "id": "deeda220",
   "metadata": {},
   "source": [
    "### Classification of Systems <a class=\"anchor\" id=\"1.1_CS\"></a>\n",
    "\n",
    "對我們來說，對系統進行全面的分類並不具啟發性（意義不大，畢竟分類不可能涵蓋所有系統）。然而，列舉在工程和科學中遇到的常見的系統類型可能相當有用，本書考慮的系統類型非常重要，卻也相當專門（侷限在線性系統的專業中）。\n",
    "\n",
    "如前所述，描述給定系統的特定方程組通常將取決於人們希望捕捉的效應，可以包含 :\n",
    "\n",
    "* 有限維度系統和無限維度系統（finite-dimensional systems and infinite-dimensional systems）\n",
    "* 連續時間和離散時間系統（continuous-time and discrete-time systems）\n",
    "* 線性和非線性系統（linear and nonlinear systems）\n",
    "* 時變和非時變系統（time-varying and time-invariant systems）\n",
    "* 確定性和隨機系統（deterministic and stochastic systems）\n",
    "\n",
    "此外，上述系統的組合被稱作混合系統（hybrid systems）。"
   ]
  },
  {
   "cell_type": "markdown",
   "id": "530b285d",
   "metadata": {},
   "source": [
    "### Finite-Dimensional Systems <a class=\"anchor\" id=\"1.1_FDS\"></a>\n",
    "\n",
    "我們關注的動態系統是連續時間和離散時間的有限維度系統 — 主要是線性系統。然而這類系統往往是線性化產出的結果，因此在處理問題時我們需要理解這類線性系統的起源（也就是非線性系統），特別是在處理描述系統類別的方程的解的存在性和唯一性的問題，以及這些系統的穩定性屬性時，我們可能也會考慮非線性模型。\n",
    "\n",
    "我們將考慮的連續時間有限維度動態系統由以下形式的方程描述：\n",
    "\n",
    "$\n",
    "\\begin{align}\n",
    "\\dot{x}_i &= f_i(t;~x_1,~x_2,~...~,~x_n;~u_1,~u_2,~...~,~u_m),~~~~ i = 1,~...~,~n \\\\\n",
    "\\dot{y}_i &= g_i(t;~x_1,~x_2,~...~,~x_n;~u_1,~u_2,~...~,~u_m),~~~~ i = 1,~...~,~p\n",
    "\\end{align}\n",
    "$\n",
    "\n",
    "其中\n",
    "\n",
    "$x_i,~i = 1,...,n$ : 狀態變數(state variables) <br>\n",
    "$\\dot{x}_i$: the time derivative of $x_i$     <br>\n",
    "$y_i,~i = 1,...,p$ : 輸出(outputs or responses) <br>\n",
    "$u_i,~i = 1,...,m$ : 輸入(inputs or stimuli)    <br>\n",
    "$f_i,~i = 1,...,n$ : real-valued functions of 1 + n + m real variables<br>\n",
    "$g_i,~i = 1,...,p$ : real-valued functions of 1 + n + m real variables<br>\n",
    "\n",
    "以上方程式可表示成 vector form 如下\n",
    "\n",
    "$\n",
    "\\begin{align}\n",
    "\\dot{x} &= f(t,x,u) \\label{ch1_state_eq}\\\\\n",
    "\\dot{y} &= g(t,x,u) \\label{ch1_output_eq}\n",
    "\\end{align}\n",
    "$\n",
    "\n",
    "其中 x is the state vector, u is the input vector, y is the output vector. 且($\\ref{ch1_state_eq}$)稱作state equation, ($\\ref{ch1_output_eq}$)稱作output equation."
   ]
  },
  {
   "cell_type": "markdown",
   "id": "78b72359",
   "metadata": {},
   "source": []
  },
  {
   "cell_type": "code",
   "execution_count": null,
   "id": "231c67ac",
   "metadata": {},
   "outputs": [],
   "source": []
  },
  {
   "cell_type": "code",
   "execution_count": null,
   "id": "a19cf495",
   "metadata": {},
   "outputs": [],
   "source": []
  },
  {
   "cell_type": "markdown",
   "id": "c3479524",
   "metadata": {},
   "source": [
    "## 紀錄\n",
    "\n",
    "* 2023/07/09\n",
    "    * 補齊 Classification of Systems"
   ]
  },
  {
   "cell_type": "markdown",
   "id": "58da5d01-fe26-4491-b1e1-957beb6c78b0",
   "metadata": {},
   "source": [
    "### 備註\n",
    "* 暫時還沒想到精簡的方式，先以課本內容、習題以及補充知識為主，未來再做增減。此外，對課本內容也做一些註解和質疑。\n",
    "* 難以翻譯成中文的部分延用英文，有些東西的描述就是英文優於中文\n",
    "* Trivial: 顯而易見、容易證明；Non-trivial: 複雜、難以證明"
   ]
  }
 ],
 "metadata": {
  "kernelspec": {
   "display_name": "Python 3 (ipykernel)",
   "language": "python",
   "name": "python3"
  },
  "language_info": {
   "codemirror_mode": {
    "name": "ipython",
    "version": 3
   },
   "file_extension": ".py",
   "mimetype": "text/x-python",
   "name": "python",
   "nbconvert_exporter": "python",
   "pygments_lexer": "ipython3",
   "version": "3.9.12"
  }
 },
 "nbformat": 4,
 "nbformat_minor": 5
}
